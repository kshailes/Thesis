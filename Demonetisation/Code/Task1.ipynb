{
 "cells": [
  {
   "cell_type": "code",
   "execution_count": 198,
   "metadata": {
    "collapsed": true
   },
   "outputs": [],
   "source": [
    "import numpy as np\n",
    "import pandas as pd\n",
    "import os\n",
    "import nltk\n",
    "import matplotlib.pyplot as plt\n",
    "%matplotlib inline"
   ]
  },
  {
   "cell_type": "code",
   "execution_count": 199,
   "metadata": {
    "collapsed": true
   },
   "outputs": [],
   "source": [
    "hindu_path = '../Data/The_Hindu/'\n",
    "hindu_docs = []\n",
    "for filename in os.listdir(hindu_path):\n",
    "    f=open(os.path.join(hindu_path,filename),'r')\n",
    "    hindu_docs.append(f.read())"
   ]
  },
  {
   "cell_type": "code",
   "execution_count": 200,
   "metadata": {
    "collapsed": true
   },
   "outputs": [],
   "source": [
    "toi_path = '../Data/Toi/'\n",
    "toi_docs = []\n",
    "for filename in os.listdir(toi_path):\n",
    "    f=open(os.path.join(toi_path,filename),'r')\n",
    "    toi_docs.append(f.read())"
   ]
  },
  {
   "cell_type": "code",
   "execution_count": 201,
   "metadata": {},
   "outputs": [
    {
     "name": "stdout",
     "output_type": "stream",
     "text": [
      "{'with', 'all', 'i', 'same', 'a', 'on', 'further', 'yours', 'be', 'into', 'herself', 'to', 'couldn', 'himself', 'from', 'too', 'once', 've', 'we', 'yourself', 'me', 'off', 'through', 'such', 'why', 'can', 'had', 'up', 'very', 'should', 'its', 'itself', 'haven', 'isn', 'are', 'nor', 'been', 'don', 'they', 'shouldn', 't', 'her', 'am', 'under', 'so', 'you', 'for', 'that', 'until', 'as', 're', 'my', 'and', 'other', 'or', 'needn', 'not', 'theirs', 'does', 'at', 'down', 'being', 'just', 'more', 'was', 'did', 'his', 'doesn', 'do', 'any', 'but', 'no', 'own', 'both', 'again', 'our', 'in', 'out', 'y', 'during', 'only', 'ours', 'mightn', 'ourselves', 'the', 'aren', 'mustn', 'over', 'whom', 'against', 'he', 'didn', 'ain', 'each', 'how', 'who', 'than', 'which', 'these', 'before', 'there', 'm', 'hasn', 'have', 'above', 'some', 'shan', 'wouldn', 'because', 'weren', 'then', 'it', 'doing', 'here', 'ma', 'were', 'your', 'now', 'hers', 'of', 'o', 'myself', 'them', 'has', 'she', 'between', 'by', 'having', 'this', 'won', 'is', 'yourselves', 'when', 'an', 's', 'after', 'll', 'if', 'd', 'what', 'will', 'themselves', 'few', 'about', 'where', 'their', 'him', 'those', 'most', 'while', 'wasn', 'hadn', 'below'}\n"
     ]
    }
   ],
   "source": [
    "from nltk.corpus import stopwords\n",
    "from nltk.stem import WordNetLemmatizer\n",
    "from nltk import pos_tag\n",
    "\n",
    "from gensim import corpora,models\n",
    "\n",
    "\n",
    "lemmatizer = WordNetLemmatizer()\n",
    "stopWords = set(stopwords.words('english'))\n",
    "print(stopWords)"
   ]
  },
  {
   "cell_type": "code",
   "execution_count": 202,
   "metadata": {
    "collapsed": true
   },
   "outputs": [],
   "source": [
    "def clean(word):\n",
    "    word = word.strip()\n",
    "    if not word[0].isalnum():\n",
    "        word = word[1:]\n",
    "    if not word[-1].isalnum():\n",
    "        word = word[:-1]\n",
    "    word = lemmatizer.lemmatize(word,'a')\n",
    "    word = lemmatizer.lemmatize(word,'n')\n",
    "    word = lemmatizer.lemmatize(word,'v')\n",
    "    return word"
   ]
  },
  {
   "cell_type": "code",
   "execution_count": 203,
   "metadata": {
    "collapsed": true
   },
   "outputs": [],
   "source": [
    "def doc_freqn_hindu(hindu_docs):\n",
    "    tokenized_hindu_docs = [[clean(word) for word in doc.lower().split() if word not in stopWords and len(word)>2]for doc in hindu_docs]\n",
    "    dictionary = corpora.Dictionary(tokenized_hindu_docs)\n",
    "    doc_freq_hindu = {}\n",
    "    for a,b in dictionary.token2id.items():\n",
    "        doc_freq_hindu[a] = dictionary.dfs[b]\n",
    "    return doc_freq_hindu"
   ]
  },
  {
   "cell_type": "code",
   "execution_count": 204,
   "metadata": {
    "collapsed": true
   },
   "outputs": [],
   "source": [
    "def doc_freqn_toi(toi_docs):\n",
    "    tokenized_toi_docs = [[clean(word) for word in doc.lower().split() if word not in stopWords and len(word)>2]for doc in toi_docs]\n",
    "    dictionary = corpora.Dictionary(tokenized_toi_docs)\n",
    "    doc_freq_toi = {}\n",
    "    for a,b in dictionary.token2id.items():\n",
    "        doc_freq_toi[a] = dictionary.dfs[b]\n",
    "    return doc_freq_toi"
   ]
  },
  {
   "cell_type": "code",
   "execution_count": 205,
   "metadata": {
    "collapsed": true
   },
   "outputs": [],
   "source": [
    "df1 = dict(doc_freqn_hindu(hindu_docs))\n",
    "df2 = dict(doc_freqn_toi(toi_docs))"
   ]
  },
  {
   "cell_type": "code",
   "execution_count": 206,
   "metadata": {},
   "outputs": [
    {
     "data": {
      "text/plain": [
       "[('withdraw', 8.039184952978056),\n",
       " ('leader', 7.858934169278998),\n",
       " ('2,000', 7.029780564263323),\n",
       " ('withdrawal', 6.99373040752351),\n",
       " ('cashless', 6.561128526645768),\n",
       " ('opposition', 6.452978056426333),\n",
       " ('r', 6.3808777429467085),\n",
       " ('digital', 6.056426332288401),\n",
       " ('rural', 5.4435736677116),\n",
       " ('though', 5.263322884012539),\n",
       " ('announcement', 5.2272727272727275),\n",
       " ('daily', 5.191222570532916),\n",
       " ('wednesday', 5.047021943573668),\n",
       " ('worker', 4.938871473354232),\n",
       " ('common', 4.90282131661442),\n",
       " ('hour', 4.686520376175549),\n",
       " ('citizen', 4.650470219435737),\n",
       " ('huge', 4.470219435736677),\n",
       " ('district', 4.434169278996865),\n",
       " ('atm', 4.380094043887147)]"
      ]
     },
     "execution_count": 206,
     "metadata": {},
     "output_type": "execute_result"
    }
   ],
   "source": [
    "ratio = {}\n",
    "for a,b in df1.items():\n",
    "    if df2.get(a):\n",
    "        ratio[a] = (b/len(hindu_docs))/(df2.get(a)/len(toi_docs))\n",
    "ratio = sorted(ratio.items(),key = lambda t:t[1],reverse=True)\n",
    "ratio[:20]"
   ]
  },
  {
   "cell_type": "code",
   "execution_count": 207,
   "metadata": {},
   "outputs": [
    {
     "data": {
      "text/plain": [
       "[('movable', 0.018025078369905956),\n",
       " ('visibly', 0.018025078369905956),\n",
       " ('cpio', 0.018025078369905956),\n",
       " ('1.01', 0.018025078369905956),\n",
       " ('puzzle', 0.018025078369905956),\n",
       " ('khalid', 0.018025078369905956),\n",
       " ('pouch', 0.018025078369905956),\n",
       " ('usd', 0.018025078369905956),\n",
       " ('connaught', 0.018025078369905956),\n",
       " ('device', 0.017241379310344827),\n",
       " ('demonetize', 0.014420062695924765),\n",
       " ('english', 0.013733393043737871),\n",
       " ('feb', 0.013518808777429468),\n",
       " ('dehradun', 0.012016718913270637),\n",
       " ('6.75', 0.012016718913270637),\n",
       " ('nia', 0.012016718913270637),\n",
       " ('2018', 0.011755485893416929),\n",
       " ('update', 0.01018808777429467),\n",
       " ('financially', 0.009012539184952978),\n",
       " ('imprisonment', 0.009012539184952978)]"
      ]
     },
     "execution_count": 207,
     "metadata": {},
     "output_type": "execute_result"
    }
   ],
   "source": [
    "ratio[-20:]"
   ]
  }
 ],
 "metadata": {
  "kernelspec": {
   "display_name": "Python 3",
   "language": "python",
   "name": "python3"
  },
  "language_info": {
   "codemirror_mode": {
    "name": "ipython",
    "version": 3
   },
   "file_extension": ".py",
   "mimetype": "text/x-python",
   "name": "python",
   "nbconvert_exporter": "python",
   "pygments_lexer": "ipython3",
   "version": "3.6.3"
  }
 },
 "nbformat": 4,
 "nbformat_minor": 2
}
