{
 "cells": [
  {
   "cell_type": "code",
   "execution_count": 65,
   "metadata": {
    "collapsed": true
   },
   "outputs": [],
   "source": [
    "import numpy as np\n",
    "import pandas as pd\n",
    "import os\n",
    "import nltk\n",
    "import matplotlib.pyplot as plt\n",
    "%matplotlib inline"
   ]
  },
  {
   "cell_type": "code",
   "execution_count": 66,
   "metadata": {
    "collapsed": true
   },
   "outputs": [],
   "source": [
    "hindu_path = '../Data/The_Hindu/'\n",
    "hindu_docs = []\n",
    "for filename in os.listdir(hindu_path):\n",
    "    f=open(os.path.join(hindu_path,filename),'r')\n",
    "    hindu_docs.append(f.read())"
   ]
  },
  {
   "cell_type": "code",
   "execution_count": 67,
   "metadata": {
    "collapsed": true
   },
   "outputs": [],
   "source": [
    "toi_path = '../Data/Toi/'\n",
    "toi_docs = []\n",
    "for filename in os.listdir(toi_path):\n",
    "    f=open(os.path.join(toi_path,filename),'r')\n",
    "    toi_docs.append(f.read())"
   ]
  },
  {
   "cell_type": "code",
   "execution_count": 123,
   "metadata": {},
   "outputs": [
    {
     "name": "stdout",
     "output_type": "stream",
     "text": [
      "{'with', 'all', 'i', 'same', 'a', 'on', 'further', 'yours', 'be', 'into', 'herself', 'to', 'couldn', 'himself', 'from', 'too', 'once', 've', 'we', 'yourself', 'me', 'off', 'through', 'such', 'why', 'can', 'had', 'up', 'very', 'should', 'its', 'itself', 'haven', 'isn', 'are', 'nor', 'been', 'don', 'they', 'shouldn', 't', 'her', 'am', 'under', 'so', 'you', 'for', 'that', 'until', 'as', 're', 'my', 'and', 'other', 'or', 'needn', 'not', 'theirs', 'does', 'at', 'down', 'being', 'just', 'more', 'was', 'did', 'his', 'doesn', 'do', 'any', 'but', 'no', 'own', 'both', 'again', 'our', 'in', 'out', 'y', 'during', 'only', 'ours', 'mightn', 'ourselves', 'the', 'aren', 'mustn', 'over', 'whom', 'against', 'he', 'didn', 'ain', 'each', 'how', 'who', 'than', 'which', 'these', 'before', 'there', 'm', 'hasn', 'have', 'above', 'some', 'shan', 'wouldn', 'because', 'weren', 'then', 'it', 'doing', 'here', 'ma', 'were', 'your', 'now', 'hers', 'of', 'o', 'myself', 'them', 'has', 'she', 'between', 'by', 'having', 'this', 'won', 'is', 'yourselves', 'when', 'an', 's', 'after', 'll', 'if', 'd', 'what', 'will', 'themselves', 'few', 'about', 'where', 'their', 'him', 'those', 'most', 'while', 'wasn', 'hadn', 'below'}\n"
     ]
    }
   ],
   "source": [
    "from nltk.corpus import stopwords\n",
    "from nltk.stem import WordNetLemmatizer\n",
    "from nltk import pos_tag\n",
    "\n",
    "from gensim import corpora,models\n",
    "\n",
    "\n",
    "lemmatizer = WordNetLemmatizer()\n",
    "stopWords = set(stopwords.words('english'))\n",
    "print(stopWords)"
   ]
  },
  {
   "cell_type": "code",
   "execution_count": 130,
   "metadata": {},
   "outputs": [],
   "source": [
    "def clean(word):\n",
    "    word = word.strip()\n",
    "    if not word[0].isalnum():\n",
    "        word = word[1:]\n",
    "    if not word[-1].isalnum():\n",
    "        word = word[:-1]\n",
    "    word = lemmatizer.lemmatize(word,'a')\n",
    "    word = lemmatizer.lemmatize(word,'n')\n",
    "    word = lemmatizer.lemmatize(word,'v')\n",
    "    return word"
   ]
  },
  {
   "cell_type": "code",
   "execution_count": 160,
   "metadata": {
    "collapsed": true
   },
   "outputs": [],
   "source": [
    "def doc_freqn_hindu():\n",
    "    tokenized_hindu_docs = [[clean(word) for word in doc.lower().split() if word not in stopWords and len(word)>2]for doc in hindu_docs]\n",
    "    dictionary = corpora.Dictionary(tokenized_hindu_docs)\n",
    "    doc_freq_hindu = {}\n",
    "    for a,b in dictionary.token2id.items():\n",
    "        doc_freq_hindu[a] = dictionary.dfs[b]\n",
    "    return doc_freq_hindu"
   ]
  },
  {
   "cell_type": "code",
   "execution_count": 158,
   "metadata": {},
   "outputs": [],
   "source": [
    "def doc_freqn_toi():\n",
    "    tokenized_toi_docs = [[clean(word) for word in doc.lower().split() if word not in stopWords and len(word)>2]for doc in toi_docs]\n",
    "    dictionary = corpora.Dictionary(tokenized_toi_docs)\n",
    "    doc_freq_toi = {}\n",
    "    for a,b in dictionary.token2id.items():\n",
    "        doc_freq_toi[a] = dictionary.dfs[b]\n",
    "    return doc_freq_toi"
   ]
  },
  {
   "cell_type": "code",
   "execution_count": 168,
   "metadata": {},
   "outputs": [],
   "source": [
    "df1 = dict(doc_freqn_hindu())\n",
    "df2 = dict(doc_freqn_toi())"
   ]
  },
  {
   "cell_type": "code",
   "execution_count": 184,
   "metadata": {},
   "outputs": [
    {
     "data": {
      "text/plain": [
       "[('withdraw', 1.4124685528505632),\n",
       " ('leader', 1.380798854356156),\n",
       " ('2,000', 1.2351182412818826),\n",
       " ('withdrawal', 1.2287843015830013),\n",
       " ('cashless', 1.1527770251964238),\n",
       " ('opposition', 1.1337752060997794),\n",
       " ('r', 1.1211073267020166),\n",
       " ('digital', 1.0641018694120836),\n",
       " ('rural', 0.9564248945310988),\n",
       " ('though', 0.9247551960366917),\n",
       " ('announcement', 0.9184212563378101),\n",
       " ('daily', 0.9120873166389287),\n",
       " ('wednesday', 0.886751557843403),\n",
       " ('worker', 0.8677497387467585),\n",
       " ('common', 0.8614157990478771),\n",
       " ('hour', 0.8234121608545885),\n",
       " ('citizen', 0.8170782211557069),\n",
       " ('huge', 0.7854085226612998),\n",
       " ('district', 0.7790745829624183),\n",
       " ('atm', 0.7695736734140961)]"
      ]
     },
     "execution_count": 184,
     "metadata": {},
     "output_type": "execute_result"
    }
   ],
   "source": [
    "ratio = {}\n",
    "for a,b in df1.items():\n",
    "    if df2.get(a):\n",
    "        ratio[a] = (b/len(df1.keys()))/(df2.get(a)/len(df2.keys()))\n",
    "ratio = sorted(ratio.items(),key = lambda t:t[1],reverse=True)\n",
    "ratio[:20]"
   ]
  },
  {
   "cell_type": "code",
   "execution_count": 185,
   "metadata": {},
   "outputs": [
    {
     "data": {
      "text/plain": [
       "[('movable', 0.0031669698494407247),\n",
       " ('visibly', 0.0031669698494407247),\n",
       " ('cpio', 0.0031669698494407247),\n",
       " ('1.01', 0.0031669698494407247),\n",
       " ('puzzle', 0.0031669698494407247),\n",
       " ('khalid', 0.0031669698494407247),\n",
       " ('pouch', 0.0031669698494407247),\n",
       " ('usd', 0.0031669698494407247),\n",
       " ('connaught', 0.0031669698494407247),\n",
       " ('device', 0.0030292755081606933),\n",
       " ('demonetize', 0.00253357587955258),\n",
       " ('english', 0.002412929409097695),\n",
       " ('feb', 0.0023752273870805436),\n",
       " ('dehradun', 0.002111313232960483),\n",
       " ('6.75', 0.002111313232960483),\n",
       " ('nia', 0.002111313232960483),\n",
       " ('2018', 0.0020654151192004725),\n",
       " ('update', 0.0017900264366404095),\n",
       " ('financially', 0.0015834849247203624),\n",
       " ('imprisonment', 0.0015834849247203624)]"
      ]
     },
     "execution_count": 185,
     "metadata": {},
     "output_type": "execute_result"
    }
   ],
   "source": [
    "ratio[-20:]"
   ]
  }
 ],
 "metadata": {
  "kernelspec": {
   "display_name": "Python 3",
   "language": "python",
   "name": "python3"
  },
  "language_info": {
   "codemirror_mode": {
    "name": "ipython",
    "version": 3
   },
   "file_extension": ".py",
   "mimetype": "text/x-python",
   "name": "python",
   "nbconvert_exporter": "python",
   "pygments_lexer": "ipython3",
   "version": "3.6.3"
  }
 },
 "nbformat": 4,
 "nbformat_minor": 2
}
