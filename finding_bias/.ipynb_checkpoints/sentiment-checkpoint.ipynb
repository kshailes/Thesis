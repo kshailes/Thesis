{
 "cells": [
  {
   "cell_type": "code",
   "execution_count": 31,
   "metadata": {},
   "outputs": [],
   "source": [
    "import pandas as pd\n",
    "import numpy as np\n",
    "import os\n",
    "import nltk"
   ]
  },
  {
   "cell_type": "code",
   "execution_count": 32,
   "metadata": {},
   "outputs": [],
   "source": [
    "path = '/home/shailesh/mission/emailscandals/'\n",
    "all_docs = {}\n",
    "for file_name in os.listdir(path):\n",
    "    file_data = open(os.path.join(path,file_name)).read()\n",
    "    all_docs[file_name] = file_data"
   ]
  },
  {
   "cell_type": "code",
   "execution_count": 34,
   "metadata": {},
   "outputs": [
    {
     "name": "stdout",
     "output_type": "stream",
     "text": [
      "primary email\n",
      "n't be\n",
      "political election\n",
      "n't mean\n",
      "months-long investigation\n",
      "last-minute reopening\n",
      "also told\n",
      "potential business\n",
      "also sidestepped\n",
      "potential conflicts\n",
      "senior adviser\n",
      "just learned\n",
      "not shy\n",
      "not going\n",
      "also vowed\n"
     ]
    }
   ],
   "source": [
    "words = nltk.word_tokenize(all_docs['doc1.txt'])\n",
    "word_pos_tag = nltk.pos_tag(words)\n",
    "for i,w in enumerate(word_pos_tag):\n",
    "    if (word_pos_tag[i][1] =='JJ') and (word_pos_tag[i+1][1] =='NN' or word_pos_tag[i+1][1] =='NNS'):\n",
    "        print(word_pos_tag[i][0],word_pos_tag[i+1][0])\n",
    "    if (word_pos_tag[i][1] =='RB' or word_pos_tag[i][1] =='RBR' or word_pos_tag[i][1] =='RBS') and (word_pos_tag[i+1][1] =='JJ') and(word_pos_tag[i+2][1] !='NN' or word_pos_tag[i+2][1] !='NNS'):\n",
    "        print(word_pos_tag[i][0],word_pos_tag[i+1][0])\n",
    "    if (word_pos_tag[i][1] =='JJ') and (word_pos_tag[i+1][1] =='JJ') and (word_pos_tag[i+2][1] !='NN' or word_pos_tag[i+2][1] !='NNS'):\n",
    "        print(word_pos_tag[i][0],word_pos_tag[i+1][0])\n",
    "    if (word_pos_tag[i][1] =='NNS' or word_pos_tag[i][1] =='NN') and (word_pos_tag[i+1][1] =='JJ')and(word_pos_tag[i+2][1] !='NN' or word_pos_tag[i+2][1] !='NNS'):\n",
    "        print(word_pos_tag[i][0],word_pos_tag[i+1][0])\n",
    "    if (word_pos_tag[i][1] =='RB' or word_pos_tag[i][1] =='RBR' or word_pos_tag[i][1] =='RBS') and (word_pos_tag[i+1][1] =='VB' or word_pos_tag[i+1][1] =='VBD' or word_pos_tag[i+1][1] =='VBN' or word_pos_tag[i+1][1] =='VBG'):\n",
    "        print(word_pos_tag[i][0],word_pos_tag[i+1][0])"
   ]
  }
 ],
 "metadata": {
  "kernelspec": {
   "display_name": "Python 3",
   "language": "python",
   "name": "python3"
  },
  "language_info": {
   "codemirror_mode": {
    "name": "ipython",
    "version": 3
   },
   "file_extension": ".py",
   "mimetype": "text/x-python",
   "name": "python",
   "nbconvert_exporter": "python",
   "pygments_lexer": "ipython3",
   "version": "3.6.3"
  }
 },
 "nbformat": 4,
 "nbformat_minor": 2
}
